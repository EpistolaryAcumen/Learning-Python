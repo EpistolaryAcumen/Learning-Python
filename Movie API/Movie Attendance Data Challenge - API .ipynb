{
 "cells": [
  {
   "cell_type": "markdown",
   "metadata": {},
   "source": [
    "# Task 1"
   ]
  },
  {
   "cell_type": "code",
   "execution_count": null,
   "metadata": {},
   "outputs": [],
   "source": [
    "import pandas as pd\n",
    "import requests\n",
    "import time"
   ]
  },
  {
   "cell_type": "code",
   "execution_count": 3,
   "metadata": {},
   "outputs": [
    {
     "data": {
      "text/html": [
       "<div>\n",
       "<style scoped>\n",
       "    .dataframe tbody tr th:only-of-type {\n",
       "        vertical-align: middle;\n",
       "    }\n",
       "\n",
       "    .dataframe tbody tr th {\n",
       "        vertical-align: top;\n",
       "    }\n",
       "\n",
       "    .dataframe thead th {\n",
       "        text-align: right;\n",
       "    }\n",
       "</style>\n",
       "<table border=\"1\" class=\"dataframe\">\n",
       "  <thead>\n",
       "    <tr style=\"text-align: right;\">\n",
       "      <th></th>\n",
       "      <th>film.title</th>\n",
       "      <th>distributor.name</th>\n",
       "      <th>gross.box.o.weekend</th>\n",
       "      <th>adm.weekend</th>\n",
       "      <th>weekend.start</th>\n",
       "      <th>weekend.end</th>\n",
       "    </tr>\n",
       "  </thead>\n",
       "  <tbody>\n",
       "    <tr>\n",
       "      <td>0</td>\n",
       "      <td>Monster Hunter</td>\n",
       "      <td>Sena</td>\n",
       "      <td>1572126.0</td>\n",
       "      <td>1045</td>\n",
       "      <td>2021-01-22</td>\n",
       "      <td>2021-01-24</td>\n",
       "    </tr>\n",
       "    <tr>\n",
       "      <td>1</td>\n",
       "      <td>Dragon Rider</td>\n",
       "      <td>Samfilm</td>\n",
       "      <td>1417327.0</td>\n",
       "      <td>1204</td>\n",
       "      <td>2021-01-22</td>\n",
       "      <td>2021-01-24</td>\n",
       "    </tr>\n",
       "    <tr>\n",
       "      <td>2</td>\n",
       "      <td>Honest Thief</td>\n",
       "      <td>Myndform</td>\n",
       "      <td>934945.0</td>\n",
       "      <td>650</td>\n",
       "      <td>2021-01-22</td>\n",
       "      <td>2021-01-24</td>\n",
       "    </tr>\n",
       "    <tr>\n",
       "      <td>3</td>\n",
       "      <td>Cats &amp; Dogs 3: Paws Unite</td>\n",
       "      <td>Samfilm</td>\n",
       "      <td>688795.0</td>\n",
       "      <td>594</td>\n",
       "      <td>2021-01-22</td>\n",
       "      <td>2021-01-24</td>\n",
       "    </tr>\n",
       "    <tr>\n",
       "      <td>4</td>\n",
       "      <td>Wonder Woman 1984</td>\n",
       "      <td>Samfilm</td>\n",
       "      <td>662733.0</td>\n",
       "      <td>467</td>\n",
       "      <td>2021-01-22</td>\n",
       "      <td>2021-01-24</td>\n",
       "    </tr>\n",
       "  </tbody>\n",
       "</table>\n",
       "</div>"
      ],
      "text/plain": [
       "                  film.title distributor.name  gross.box.o.weekend  \\\n",
       "0             Monster Hunter             Sena            1572126.0   \n",
       "1               Dragon Rider          Samfilm            1417327.0   \n",
       "2               Honest Thief         Myndform             934945.0   \n",
       "3  Cats & Dogs 3: Paws Unite          Samfilm             688795.0   \n",
       "4          Wonder Woman 1984          Samfilm             662733.0   \n",
       "\n",
       "   adm.weekend weekend.start weekend.end  \n",
       "0         1045    2021-01-22  2021-01-24  \n",
       "1         1204    2021-01-22  2021-01-24  \n",
       "2          650    2021-01-22  2021-01-24  \n",
       "3          594    2021-01-22  2021-01-24  \n",
       "4          467    2021-01-22  2021-01-24  "
      ]
     },
     "execution_count": 3,
     "metadata": {},
     "output_type": "execute_result"
    }
   ],
   "source": [
    "df = pd.read_csv('/Users/wynnephilpott/Documents/missing pauldron/Data Science/Learning Python/Movie API/movie-attendance-by-weeks-full.csv')\n",
    "df.head()"
   ]
  },
  {
   "cell_type": "code",
   "execution_count": 5,
   "metadata": {},
   "outputs": [],
   "source": [
    "order = df.groupby('film.title').sum().sort_values(by='gross.box.o.weekend',ascending=False)\n",
    "order = order.reset_index()"
   ]
  },
  {
   "cell_type": "code",
   "execution_count": 6,
   "metadata": {},
   "outputs": [
    {
     "data": {
      "text/plain": [
       "0                   Avengers  Endgame\n",
       "1                    Lof mér að falla\n",
       "2                               Joker\n",
       "3             Avengers - Infinity War\n",
       "4                The Lion King (2019)\n",
       "5         Mamma Mia! Here We Go Again\n",
       "6             Star Wars The Last Jedi\n",
       "7    Star Wars  The Rise of Skywalker\n",
       "Name: film.title, dtype: object"
      ]
     },
     "execution_count": 6,
     "metadata": {},
     "output_type": "execute_result"
    }
   ],
   "source": [
    "order['film.title'] = order['film.title'].str.replace(':','').replace('(','').replace(')','')\n",
    "order['film.title'].head(8)"
   ]
  },
  {
   "cell_type": "markdown",
   "metadata": {},
   "source": [
    "# Task 2 \n",
    "Use a subset of above data for learning purposes/troubleshooting"
   ]
  },
  {
   "cell_type": "code",
   "execution_count": 22,
   "metadata": {},
   "outputs": [],
   "source": [
    "title_list = ['Bohemian Rhapsody','Joker','Frozen 2','Deadpool 2']"
   ]
  },
  {
   "cell_type": "code",
   "execution_count": 23,
   "metadata": {},
   "outputs": [],
   "source": [
    "films = [f\"http://www.omdbapi.com/?i=tt3896198&apikey=d1c9c3a0&t={i}\" for i in title_list]"
   ]
  },
  {
   "cell_type": "code",
   "execution_count": 24,
   "metadata": {},
   "outputs": [
    {
     "data": {
      "text/plain": [
       "['http://www.omdbapi.com/?i=tt3896198&apikey=d1c9c3a0&t=Bohemian Rhapsody',\n",
       " 'http://www.omdbapi.com/?i=tt3896198&apikey=d1c9c3a0&t=Joker',\n",
       " 'http://www.omdbapi.com/?i=tt3896198&apikey=d1c9c3a0&t=Frozen 2',\n",
       " 'http://www.omdbapi.com/?i=tt3896198&apikey=d1c9c3a0&t=Deadpool 2']"
      ]
     },
     "execution_count": 24,
     "metadata": {},
     "output_type": "execute_result"
    }
   ],
   "source": [
    "films"
   ]
  },
  {
   "cell_type": "markdown",
   "metadata": {},
   "source": [
    "# Tasks 3 and 4"
   ]
  },
  {
   "cell_type": "code",
   "execution_count": 11,
   "metadata": {},
   "outputs": [
    {
     "name": "stdout",
     "output_type": "stream",
     "text": [
      "200\n"
     ]
    }
   ],
   "source": [
    "response = requests.get('http://www.omdbapi.com/?i=tt3896198&apikey=d1c9c3a0&t=Bohemian Rhapsody')\n",
    "print(response.status_code)"
   ]
  },
  {
   "cell_type": "code",
   "execution_count": 12,
   "metadata": {},
   "outputs": [
    {
     "name": "stdout",
     "output_type": "stream",
     "text": [
      "{\n",
      "    \"Actors\": \"Rami Malek, Lucy Boynton, Gwilym Lee\",\n",
      "    \"Awards\": \"Won 4 Oscars. 48 wins & 80 nominations total\",\n",
      "    \"BoxOffice\": \"$216,668,042\",\n",
      "    \"Country\": \"United Kingdom, United States\",\n",
      "    \"DVD\": \"22 Jan 2019\",\n",
      "    \"Director\": \"Bryan Singer\",\n",
      "    \"Genre\": \"Biography, Drama, Music\",\n",
      "    \"Language\": \"English, British Sign \",\n",
      "    \"Metascore\": \"49\",\n",
      "    \"Plot\": \"The story of the legendary British rock band Queen and lead singer Freddie Mercury, leading up to their famous performance at Live Aid (1985).\",\n",
      "    \"Poster\": \"https://m.media-amazon.com/images/M/MV5BMTA2NDc3Njg5NDVeQTJeQWpwZ15BbWU4MDc1NDcxNTUz._V1_SX300.jpg\",\n",
      "    \"Production\": \"N/A\",\n",
      "    \"Rated\": \"PG-13\",\n",
      "    \"Ratings\": [\n",
      "        {\n",
      "            \"Source\": \"Internet Movie Database\",\n",
      "            \"Value\": \"7.9/10\"\n",
      "        },\n",
      "        {\n",
      "            \"Source\": \"Rotten Tomatoes\",\n",
      "            \"Value\": \"60%\"\n",
      "        },\n",
      "        {\n",
      "            \"Source\": \"Metacritic\",\n",
      "            \"Value\": \"49/100\"\n",
      "        }\n",
      "    ],\n",
      "    \"Released\": \"02 Nov 2018\",\n",
      "    \"Response\": \"True\",\n",
      "    \"Runtime\": \"134 min\",\n",
      "    \"Title\": \"Bohemian Rhapsody\",\n",
      "    \"Type\": \"movie\",\n",
      "    \"Website\": \"N/A\",\n",
      "    \"Writer\": \"Anthony McCarten, Peter Morgan\",\n",
      "    \"Year\": \"2018\",\n",
      "    \"imdbID\": \"tt1727824\",\n",
      "    \"imdbRating\": \"7.9\",\n",
      "    \"imdbVotes\": \"506,366\"\n",
      "}\n"
     ]
    }
   ],
   "source": [
    "import json\n",
    "\n",
    "def jprint(obj):\n",
    "    # create a formatted string of the Python JSON object\n",
    "    text = json.dumps(obj, sort_keys=True, indent=4)\n",
    "    print(text)\n",
    "\n",
    "jprint(response.json())"
   ]
  },
  {
   "cell_type": "code",
   "execution_count": 13,
   "metadata": {},
   "outputs": [
    {
     "data": {
      "text/plain": [
       "dict"
      ]
     },
     "execution_count": 13,
     "metadata": {},
     "output_type": "execute_result"
    }
   ],
   "source": [
    "type(response.json())"
   ]
  },
  {
   "cell_type": "code",
   "execution_count": 14,
   "metadata": {},
   "outputs": [
    {
     "data": {
      "text/html": [
       "<div>\n",
       "<style scoped>\n",
       "    .dataframe tbody tr th:only-of-type {\n",
       "        vertical-align: middle;\n",
       "    }\n",
       "\n",
       "    .dataframe tbody tr th {\n",
       "        vertical-align: top;\n",
       "    }\n",
       "\n",
       "    .dataframe thead th {\n",
       "        text-align: right;\n",
       "    }\n",
       "</style>\n",
       "<table border=\"1\" class=\"dataframe\">\n",
       "  <thead>\n",
       "    <tr style=\"text-align: right;\">\n",
       "      <th></th>\n",
       "      <th>Title</th>\n",
       "      <th>Year</th>\n",
       "      <th>Rated</th>\n",
       "      <th>Released</th>\n",
       "      <th>Runtime</th>\n",
       "      <th>Genre</th>\n",
       "      <th>Director</th>\n",
       "      <th>Writer</th>\n",
       "      <th>Actors</th>\n",
       "      <th>Plot</th>\n",
       "      <th>...</th>\n",
       "      <th>Metascore</th>\n",
       "      <th>imdbRating</th>\n",
       "      <th>imdbVotes</th>\n",
       "      <th>imdbID</th>\n",
       "      <th>Type</th>\n",
       "      <th>DVD</th>\n",
       "      <th>BoxOffice</th>\n",
       "      <th>Production</th>\n",
       "      <th>Website</th>\n",
       "      <th>Response</th>\n",
       "    </tr>\n",
       "  </thead>\n",
       "  <tbody>\n",
       "    <tr>\n",
       "      <td>0</td>\n",
       "      <td>Bohemian Rhapsody</td>\n",
       "      <td>2018</td>\n",
       "      <td>PG-13</td>\n",
       "      <td>02 Nov 2018</td>\n",
       "      <td>134 min</td>\n",
       "      <td>Biography, Drama, Music</td>\n",
       "      <td>Bryan Singer</td>\n",
       "      <td>Anthony McCarten, Peter Morgan</td>\n",
       "      <td>Rami Malek, Lucy Boynton, Gwilym Lee</td>\n",
       "      <td>The story of the legendary British rock band Q...</td>\n",
       "      <td>...</td>\n",
       "      <td>49</td>\n",
       "      <td>7.9</td>\n",
       "      <td>506,366</td>\n",
       "      <td>tt1727824</td>\n",
       "      <td>movie</td>\n",
       "      <td>22 Jan 2019</td>\n",
       "      <td>$216,668,042</td>\n",
       "      <td>N/A</td>\n",
       "      <td>N/A</td>\n",
       "      <td>True</td>\n",
       "    </tr>\n",
       "    <tr>\n",
       "      <td>1</td>\n",
       "      <td>Bohemian Rhapsody</td>\n",
       "      <td>2018</td>\n",
       "      <td>PG-13</td>\n",
       "      <td>02 Nov 2018</td>\n",
       "      <td>134 min</td>\n",
       "      <td>Biography, Drama, Music</td>\n",
       "      <td>Bryan Singer</td>\n",
       "      <td>Anthony McCarten, Peter Morgan</td>\n",
       "      <td>Rami Malek, Lucy Boynton, Gwilym Lee</td>\n",
       "      <td>The story of the legendary British rock band Q...</td>\n",
       "      <td>...</td>\n",
       "      <td>49</td>\n",
       "      <td>7.9</td>\n",
       "      <td>506,366</td>\n",
       "      <td>tt1727824</td>\n",
       "      <td>movie</td>\n",
       "      <td>22 Jan 2019</td>\n",
       "      <td>$216,668,042</td>\n",
       "      <td>N/A</td>\n",
       "      <td>N/A</td>\n",
       "      <td>True</td>\n",
       "    </tr>\n",
       "    <tr>\n",
       "      <td>2</td>\n",
       "      <td>Bohemian Rhapsody</td>\n",
       "      <td>2018</td>\n",
       "      <td>PG-13</td>\n",
       "      <td>02 Nov 2018</td>\n",
       "      <td>134 min</td>\n",
       "      <td>Biography, Drama, Music</td>\n",
       "      <td>Bryan Singer</td>\n",
       "      <td>Anthony McCarten, Peter Morgan</td>\n",
       "      <td>Rami Malek, Lucy Boynton, Gwilym Lee</td>\n",
       "      <td>The story of the legendary British rock band Q...</td>\n",
       "      <td>...</td>\n",
       "      <td>49</td>\n",
       "      <td>7.9</td>\n",
       "      <td>506,366</td>\n",
       "      <td>tt1727824</td>\n",
       "      <td>movie</td>\n",
       "      <td>22 Jan 2019</td>\n",
       "      <td>$216,668,042</td>\n",
       "      <td>N/A</td>\n",
       "      <td>N/A</td>\n",
       "      <td>True</td>\n",
       "    </tr>\n",
       "  </tbody>\n",
       "</table>\n",
       "<p>3 rows × 25 columns</p>\n",
       "</div>"
      ],
      "text/plain": [
       "               Title  Year  Rated     Released  Runtime  \\\n",
       "0  Bohemian Rhapsody  2018  PG-13  02 Nov 2018  134 min   \n",
       "1  Bohemian Rhapsody  2018  PG-13  02 Nov 2018  134 min   \n",
       "2  Bohemian Rhapsody  2018  PG-13  02 Nov 2018  134 min   \n",
       "\n",
       "                     Genre      Director                          Writer  \\\n",
       "0  Biography, Drama, Music  Bryan Singer  Anthony McCarten, Peter Morgan   \n",
       "1  Biography, Drama, Music  Bryan Singer  Anthony McCarten, Peter Morgan   \n",
       "2  Biography, Drama, Music  Bryan Singer  Anthony McCarten, Peter Morgan   \n",
       "\n",
       "                                 Actors  \\\n",
       "0  Rami Malek, Lucy Boynton, Gwilym Lee   \n",
       "1  Rami Malek, Lucy Boynton, Gwilym Lee   \n",
       "2  Rami Malek, Lucy Boynton, Gwilym Lee   \n",
       "\n",
       "                                                Plot  ... Metascore  \\\n",
       "0  The story of the legendary British rock band Q...  ...        49   \n",
       "1  The story of the legendary British rock band Q...  ...        49   \n",
       "2  The story of the legendary British rock band Q...  ...        49   \n",
       "\n",
       "  imdbRating imdbVotes     imdbID   Type          DVD     BoxOffice  \\\n",
       "0        7.9   506,366  tt1727824  movie  22 Jan 2019  $216,668,042   \n",
       "1        7.9   506,366  tt1727824  movie  22 Jan 2019  $216,668,042   \n",
       "2        7.9   506,366  tt1727824  movie  22 Jan 2019  $216,668,042   \n",
       "\n",
       "  Production Website Response  \n",
       "0        N/A     N/A     True  \n",
       "1        N/A     N/A     True  \n",
       "2        N/A     N/A     True  \n",
       "\n",
       "[3 rows x 25 columns]"
      ]
     },
     "execution_count": 14,
     "metadata": {},
     "output_type": "execute_result"
    }
   ],
   "source": [
    "pd.DataFrame.from_dict(response.json())"
   ]
  },
  {
   "cell_type": "code",
   "execution_count": 25,
   "metadata": {},
   "outputs": [
    {
     "data": {
      "text/plain": [
       "['Bohemian Rhapsody', 'Joker', 'Frozen 2', 'Deadpool 2']"
      ]
     },
     "execution_count": 25,
     "metadata": {},
     "output_type": "execute_result"
    }
   ],
   "source": [
    "title_list"
   ]
  },
  {
   "cell_type": "code",
   "execution_count": 144,
   "metadata": {},
   "outputs": [],
   "source": [
    "## failed attempt\n",
    "films = [f\"https://order.besse.com/Orders/Search/ProductSearch?query={i}\" for i in title_list]\n",
    "\n",
    "response_list = []\n",
    "def get_films(response):\n",
    "    for i in films:\n",
    "        response_list =  response_list.append(requests.get(i))"
   ]
  },
  {
   "cell_type": "code",
   "execution_count": 146,
   "metadata": {},
   "outputs": [
    {
     "data": {
      "text/plain": [
       "[]"
      ]
     },
     "execution_count": 146,
     "metadata": {},
     "output_type": "execute_result"
    }
   ],
   "source": [
    "response_list"
   ]
  },
  {
   "cell_type": "code",
   "execution_count": null,
   "metadata": {},
   "outputs": [],
   "source": []
  }
 ],
 "metadata": {
  "kernelspec": {
   "display_name": "Python 3",
   "language": "python",
   "name": "python3"
  },
  "language_info": {
   "codemirror_mode": {
    "name": "ipython",
    "version": 3
   },
   "file_extension": ".py",
   "mimetype": "text/x-python",
   "name": "python",
   "nbconvert_exporter": "python",
   "pygments_lexer": "ipython3",
   "version": "3.7.4"
  }
 },
 "nbformat": 4,
 "nbformat_minor": 5
}
